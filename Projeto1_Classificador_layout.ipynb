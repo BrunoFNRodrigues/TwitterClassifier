{
 "cells": [
  {
   "cell_type": "markdown",
   "metadata": {},
   "source": [
    "# Projeto 1 - Ciência dos Dados"
   ]
  },
  {
   "cell_type": "markdown",
   "metadata": {},
   "source": [
    "Nome: _____\n",
    "\n",
    "Nome: _____"
   ]
  },
  {
   "cell_type": "markdown",
   "metadata": {},
   "source": [
    "**Atenção:** Serão permitidos grupos de três pessoas, mas com uma rubrica mais exigente. Grupos deste tamanho precisarão fazer um questionário de avaliação de trabalho em equipe"
   ]
  },
  {
   "cell_type": "markdown",
   "metadata": {},
   "source": [
    "___\n",
    "Carregando algumas bibliotecas:"
   ]
  },
  {
   "cell_type": "code",
   "execution_count": 38,
   "metadata": {},
   "outputs": [],
   "source": [
    "%matplotlib inline\n",
    "import pandas as pd\n",
    "import matplotlib.pyplot as plt\n",
    "import numpy as np\n",
    "import os\n",
    "import re \n",
    "from IPython.display import display"
   ]
  },
  {
   "cell_type": "markdown",
   "metadata": {},
   "source": [
    "**Em `filename`, coloque o nome do seu arquivo de dados!**"
   ]
  },
  {
   "cell_type": "code",
   "execution_count": 39,
   "metadata": {
    "scrolled": false,
    "tags": []
   },
   "outputs": [
    {
     "output_type": "stream",
     "name": "stdout",
     "text": "Encontrei o arquivo Playstation5.xlsx, tudo certo para prosseguir com a prova!\n"
    }
   ],
   "source": [
    "\n",
    "filename = 'Playstation5.xlsx'\n",
    "if filename in os.listdir():\n",
    "    print(f'Encontrei o arquivo {filename}, tudo certo para prosseguir com a prova!')\n",
    "else:\n",
    "    print(f'Não encontrei o arquivo {filename} aqui no diretório {os.getcwd()}, será que você não baixou o arquivo?')"
   ]
  },
  {
   "cell_type": "markdown",
   "metadata": {},
   "source": [
    "Carregando a base de dados com os tweets classificados como relevantes e não relevantes:"
   ]
  },
  {
   "cell_type": "code",
   "execution_count": 40,
   "metadata": {},
   "outputs": [
    {
     "output_type": "execute_result",
     "data": {
      "text/plain": "                                         Treinamento  Relevância     % de 1\n0  confira o novo trailer do playstation 5 https:...           0  45.333333\n1  todos detalhes do playstation 5 serão revelado...           0        NaN\n2  corre pra comprar o playstation 5 que tá com q...           1        NaN\n3  eu aposto no dia 16 como essa sony safadona va...           1        NaN\n4  rt @playstationpt: a próxima apresentação da p...           0        NaN",
      "text/html": "<div>\n<style scoped>\n    .dataframe tbody tr th:only-of-type {\n        vertical-align: middle;\n    }\n\n    .dataframe tbody tr th {\n        vertical-align: top;\n    }\n\n    .dataframe thead th {\n        text-align: right;\n    }\n</style>\n<table border=\"1\" class=\"dataframe\">\n  <thead>\n    <tr style=\"text-align: right;\">\n      <th></th>\n      <th>Treinamento</th>\n      <th>Relevância</th>\n      <th>% de 1</th>\n    </tr>\n  </thead>\n  <tbody>\n    <tr>\n      <th>0</th>\n      <td>confira o novo trailer do playstation 5 https:...</td>\n      <td>0</td>\n      <td>45.333333</td>\n    </tr>\n    <tr>\n      <th>1</th>\n      <td>todos detalhes do playstation 5 serão revelado...</td>\n      <td>0</td>\n      <td>NaN</td>\n    </tr>\n    <tr>\n      <th>2</th>\n      <td>corre pra comprar o playstation 5 que tá com q...</td>\n      <td>1</td>\n      <td>NaN</td>\n    </tr>\n    <tr>\n      <th>3</th>\n      <td>eu aposto no dia 16 como essa sony safadona va...</td>\n      <td>1</td>\n      <td>NaN</td>\n    </tr>\n    <tr>\n      <th>4</th>\n      <td>rt @playstationpt: a próxima apresentação da p...</td>\n      <td>0</td>\n      <td>NaN</td>\n    </tr>\n  </tbody>\n</table>\n</div>"
     },
     "metadata": {},
     "execution_count": 40
    }
   ],
   "source": [
    "train = pd.read_excel(filename)\n",
    "train.head(5)"
   ]
  },
  {
   "cell_type": "code",
   "execution_count": 41,
   "metadata": {},
   "outputs": [
    {
     "output_type": "execute_result",
     "data": {
      "text/plain": "                                               Teste  Relevância     % de 1\n0  entenda como ficará a venda de eletrodoméstico...           0  48.292683\n1  o novo #playstation 5 está previsto para ser l...           0        NaN\n2  @jose_simao vem cá, o preço do novo playstatio...           1        NaN\n3                @yasminxlima me dá um playstation 5           1        NaN\n4  propaganda do playstation 5 aparece em partida...           0        NaN",
      "text/html": "<div>\n<style scoped>\n    .dataframe tbody tr th:only-of-type {\n        vertical-align: middle;\n    }\n\n    .dataframe tbody tr th {\n        vertical-align: top;\n    }\n\n    .dataframe thead th {\n        text-align: right;\n    }\n</style>\n<table border=\"1\" class=\"dataframe\">\n  <thead>\n    <tr style=\"text-align: right;\">\n      <th></th>\n      <th>Teste</th>\n      <th>Relevância</th>\n      <th>% de 1</th>\n    </tr>\n  </thead>\n  <tbody>\n    <tr>\n      <th>0</th>\n      <td>entenda como ficará a venda de eletrodoméstico...</td>\n      <td>0</td>\n      <td>48.292683</td>\n    </tr>\n    <tr>\n      <th>1</th>\n      <td>o novo #playstation 5 está previsto para ser l...</td>\n      <td>0</td>\n      <td>NaN</td>\n    </tr>\n    <tr>\n      <th>2</th>\n      <td>@jose_simao vem cá, o preço do novo playstatio...</td>\n      <td>1</td>\n      <td>NaN</td>\n    </tr>\n    <tr>\n      <th>3</th>\n      <td>@yasminxlima me dá um playstation 5</td>\n      <td>1</td>\n      <td>NaN</td>\n    </tr>\n    <tr>\n      <th>4</th>\n      <td>propaganda do playstation 5 aparece em partida...</td>\n      <td>0</td>\n      <td>NaN</td>\n    </tr>\n  </tbody>\n</table>\n</div>"
     },
     "metadata": {},
     "execution_count": 41
    }
   ],
   "source": [
    "test = pd.read_excel(filename, sheet_name = 'Teste')\n",
    "test.head(5)"
   ]
  },
  {
   "cell_type": "markdown",
   "metadata": {},
   "source": [
    "___\n",
    "## Classificador automático de sentimento\n"
   ]
  },
  {
   "cell_type": "markdown",
   "metadata": {},
   "source": [
    "Faça aqui uma descrição do seu produto e o que considerou como relevante ou não relevante na classificação dos tweets.\n",
    "\n",
    "ESCREVA AQUI..."
   ]
  },
  {
   "cell_type": "markdown",
   "metadata": {},
   "source": [
    "___\n",
    "### Montando um Classificador Naive-Bayes\n",
    "\n",
    "Considerando apenas as mensagens da planilha Treinamento, ensine  seu classificador."
   ]
  },
  {
   "cell_type": "code",
   "execution_count": 42,
   "metadata": {},
   "outputs": [],
   "source": [
    "#Configuração do train\n",
    "train['Treinamento'] = train['Treinamento'].astype('category')\n",
    "train['Relevância'] = train['Relevância'].astype('category')\n",
    "train.Relevância.cat.categories = ['irrelevante', 'relevante']\n",
    "\n",
    "#Configuração do test\n",
    "test['Teste'] = test['Teste'].astype('category')\n",
    "test['Relevância'] = test['Relevância'].astype('category')\n",
    "test.Relevância.cat.categories = ['irrelevante', 'relevante']\n",
    "\n"
   ]
  },
  {
   "cell_type": "code",
   "execution_count": 43,
   "metadata": {},
   "outputs": [
    {
     "output_type": "display_data",
     "data": {
      "text/plain": "                                               Teste   Relevância     % de 1\n0  entenda como ficará a venda de eletrodoméstico...  irrelevante  48.292683\n1  o novo #playstation 5 está previsto para ser l...  irrelevante        NaN\n2  @jose_simao vem cá, o preço do novo playstatio...    relevante        NaN",
      "text/html": "<div>\n<style scoped>\n    .dataframe tbody tr th:only-of-type {\n        vertical-align: middle;\n    }\n\n    .dataframe tbody tr th {\n        vertical-align: top;\n    }\n\n    .dataframe thead th {\n        text-align: right;\n    }\n</style>\n<table border=\"1\" class=\"dataframe\">\n  <thead>\n    <tr style=\"text-align: right;\">\n      <th></th>\n      <th>Teste</th>\n      <th>Relevância</th>\n      <th>% de 1</th>\n    </tr>\n  </thead>\n  <tbody>\n    <tr>\n      <th>0</th>\n      <td>entenda como ficará a venda de eletrodoméstico...</td>\n      <td>irrelevante</td>\n      <td>48.292683</td>\n    </tr>\n    <tr>\n      <th>1</th>\n      <td>o novo #playstation 5 está previsto para ser l...</td>\n      <td>irrelevante</td>\n      <td>NaN</td>\n    </tr>\n    <tr>\n      <th>2</th>\n      <td>@jose_simao vem cá, o preço do novo playstatio...</td>\n      <td>relevante</td>\n      <td>NaN</td>\n    </tr>\n  </tbody>\n</table>\n</div>"
     },
     "metadata": {}
    },
    {
     "output_type": "display_data",
     "data": {
      "text/plain": "                                         Treinamento   Relevância     % de 1\n0  confira o novo trailer do playstation 5 https:...  irrelevante  45.333333\n1  todos detalhes do playstation 5 serão revelado...  irrelevante        NaN\n2  corre pra comprar o playstation 5 que tá com q...    relevante        NaN",
      "text/html": "<div>\n<style scoped>\n    .dataframe tbody tr th:only-of-type {\n        vertical-align: middle;\n    }\n\n    .dataframe tbody tr th {\n        vertical-align: top;\n    }\n\n    .dataframe thead th {\n        text-align: right;\n    }\n</style>\n<table border=\"1\" class=\"dataframe\">\n  <thead>\n    <tr style=\"text-align: right;\">\n      <th></th>\n      <th>Treinamento</th>\n      <th>Relevância</th>\n      <th>% de 1</th>\n    </tr>\n  </thead>\n  <tbody>\n    <tr>\n      <th>0</th>\n      <td>confira o novo trailer do playstation 5 https:...</td>\n      <td>irrelevante</td>\n      <td>45.333333</td>\n    </tr>\n    <tr>\n      <th>1</th>\n      <td>todos detalhes do playstation 5 serão revelado...</td>\n      <td>irrelevante</td>\n      <td>NaN</td>\n    </tr>\n    <tr>\n      <th>2</th>\n      <td>corre pra comprar o playstation 5 que tá com q...</td>\n      <td>relevante</td>\n      <td>NaN</td>\n    </tr>\n  </tbody>\n</table>\n</div>"
     },
     "metadata": {}
    }
   ],
   "source": [
    "display(test.head(3))\n",
    "display(train.head(3))\n",
    "\n"
   ]
  },
  {
   "cell_type": "code",
   "execution_count": 44,
   "metadata": {
    "tags": []
   },
   "outputs": [
    {
     "output_type": "stream",
     "name": "stdout",
     "text": "Irrelevante:0.5467\n  Relevante:0.4533\n"
    }
   ],
   "source": [
    "# Tabela de frequências relativas => Probabilidades marginais\n",
    "p=train.Relevância.value_counts(True, sort=False).round(4)\n",
    "I=p[0]\n",
    "R=p[1]\n",
    "print(f'Irrelevante:{I}\\n  Relevante:{R}')"
   ]
  },
  {
   "cell_type": "code",
   "execution_count": 45,
   "metadata": {},
   "outputs": [],
   "source": [
    "def cleanup(text):\n",
    "    #import string\n",
    "    punctuation = '[!-.:?;]' # Note que os sinais [] são delimitadores de um conjunto.\n",
    "    pattern = re.compile(punctuation)\n",
    "    text_subbed = re.sub(pattern, '', text)\n",
    "    return text_subbed"
   ]
  },
  {
   "cell_type": "code",
   "execution_count": 46,
   "metadata": {
    "tags": []
   },
   "outputs": [
    {
     "output_type": "display_data",
     "data": {
      "text/plain": "0    confira o novo trailer do playstation 5 https:...\n1    todos detalhes do playstation 5 serão revelado...\n4    rt @playstationpt: a próxima apresentação da p...\nName: Treinamento, dtype: object"
     },
     "metadata": {}
    },
    {
     "output_type": "display_data",
     "data": {
      "text/plain": "2    corre pra comprar o playstation 5 que tá com q...\n3    eu aposto no dia 16 como essa sony safadona va...\n8    o torcedor gremista hoje é aquele molequinho q...\nName: Treinamento, dtype: object"
     },
     "metadata": {}
    },
    {
     "output_type": "display_data",
     "data": {
      "text/plain": "0    entenda como ficará a venda de eletrodoméstico...\n1    o novo #playstation 5 está previsto para ser l...\n2    @jose_simao vem cá, o preço do novo playstatio...\nName: Teste, dtype: object"
     },
     "metadata": {}
    }
   ],
   "source": [
    "# Separando por relevância\n",
    "#Irrelevante\n",
    "tweet_i = train.loc[train.Relevância =='irrelevante','Treinamento'].str.lower()\n",
    "\n",
    "#Relevante\n",
    "tweet_r = train.loc[train.Relevância =='relevante','Treinamento'].str.lower()\n",
    "\n",
    "#Teste\n",
    "tweet_t = test.loc[:,'Teste'].str.lower()\n",
    "\n",
    "\n",
    "display(tweet_i.head(3))\n",
    "display(tweet_r.head(3))\n",
    "display(tweet_t.head(3))"
   ]
  },
  {
   "cell_type": "code",
   "execution_count": 70,
   "metadata": {
    "tags": []
   },
   "outputs": [],
   "source": [
    "#Dados total\n",
    "dados = ''\n",
    "for i in range(0,train.shape[0]):    \n",
    "    # Seleciona e limpa o tweet\n",
    "    tweet_raw = str(train.iloc[i,0])\n",
    "    tweet = cleanup(tweet_raw.lower())\n",
    "    dados = dados + tweet\n",
    "\n",
    "#Dados relevante\n",
    "dados_r = ''\n",
    "for i in range(0,tweet_r.shape[0]):    \n",
    "    # Seleciona e limpa o tweet\n",
    "    tweet_raw = str(tweet_r.iloc[i])\n",
    "    tweet = cleanup(tweet_raw.lower())\n",
    "    dados_r = dados_r + tweet\n",
    "\n",
    "#Dados irrelevantes\n",
    "dados_i = ''\n",
    "for i in range(0,tweet_i.shape[0]):    \n",
    "    # Seleciona e limpa o tweet\n",
    "    tweet_raw = str(tweet_i.iloc[i])\n",
    "    tweet = cleanup(tweet_raw.lower())\n",
    "    dados_i = dados_i + tweet"
   ]
  },
  {
   "cell_type": "code",
   "execution_count": 65,
   "metadata": {},
   "outputs": [],
   "source": [
    "#Serie de dados totais\n",
    "serie_dado = pd.Series(dados)\n",
    "\n",
    "#Serie de dados dos irrelevantes\n",
    "serie_dado_i = pd.Series(dados_i.split())\n",
    "i_relativo = serie_dado_i.value_counts(True) \n",
    "\n",
    "#Serie de dados dos relevantes\n",
    "serie_dado_r = pd.Series(dados_r.split())\n",
    "r_relativo = serie_dado_r.value_counts(True) "
   ]
  },
  {
   "cell_type": "code",
   "execution_count": 73,
   "metadata": {
    "tags": []
   },
   "outputs": [],
   "source": [
    "#Classificador\n",
    "for i in range(0,tweet_t.shape[0]):\n",
    "    #Declarando variáveis\n",
    "    P_D_dado_R = 1\n",
    "    P_D_dado_I = 1\n",
    "    P_R_dado_D = 0\n",
    "    P_I_dado_D = 0    \n",
    "    #Seleciona e limpa e separa o tweet\n",
    "    tweet_raw = str(tweet_t.iloc[i])\n",
    "    tweet = cleanup(tweet_raw.lower())\n",
    "    tweet = tweet.split()\n",
    "    #Calcula as probabilidades de ser:\n",
    "    #-->Relevante\n",
    "    for i in tweet:\n",
    "        if i in r_relativo:\n",
    "            P_D_dado_R = P_D_dado_R * r_relativo[i] \n",
    "        else:\n",
    "            None\n",
    "        #Resultado\n",
    "        P_R_dado_D = P_D_dado_R / R\n",
    "    #-->Irrelevante\n",
    "    for i in tweet:\n",
    "        if i in i_relativo:\n",
    "            P_D_dado_I = P_D_dado_I * i_relativo[i]\n",
    "        else:\n",
    "            None\n",
    "        #Resultado\n",
    "        P_I_dado_D = P_D_dado_I / I\n",
    "\n",
    "    #Classificando\n",
    "    if (P_R_dado_D > P_I_dado_D):\n",
    "        test.loc[test.Teste == tweet_raw ,'ClassByRel'] = 'relevante'\n",
    "    else:\n",
    "        test.loc[test.Teste == tweet_raw,'ClassByRel'] = 'irrelevante'\n",
    "    "
   ]
  },
  {
   "cell_type": "code",
   "execution_count": null,
   "metadata": {},
   "outputs": [],
   "source": [
    "    #-->Irrelevante\n",
    "    for i in tweet:\n",
    "        if not i in dados_r:\n",
    "            P_D_dado_I = P_D_dado_I \n",
    "        else:\n",
    "            P_D_dado_I = P_D_dado_I * r_relativo[i]\n",
    "        #Resultado\n",
    "        P_I_dado_D = P_D_dado_I / I\n",
    "\n",
    "        #Classificando\n",
    "        if (P_R_dado_D > P_I_dado_D):\n",
    "            test.loc[test.Teste == tweet_raw ,'ClassByRel'] = 'relevante'\n",
    "        else:\n",
    "            test.loc[test.Teste == tweet_raw,'ClassByRel'] = 'irrelevante'"
   ]
  },
  {
   "cell_type": "code",
   "execution_count": 74,
   "metadata": {},
   "outputs": [
    {
     "output_type": "execute_result",
     "data": {
      "text/plain": "                                               Teste   Relevância     % de 1  \\\n0  entenda como ficará a venda de eletrodoméstico...  irrelevante  48.292683   \n1  o novo #playstation 5 está previsto para ser l...  irrelevante        NaN   \n2  @jose_simao vem cá, o preço do novo playstatio...    relevante        NaN   \n3                @yasminxlima me dá um playstation 5    relevante        NaN   \n4  propaganda do playstation 5 aparece em partida...  irrelevante        NaN   \n\n    ClassByRel  \n0    relevante  \n1  irrelevante  \n2  irrelevante  \n3    relevante  \n4  irrelevante  ",
      "text/html": "<div>\n<style scoped>\n    .dataframe tbody tr th:only-of-type {\n        vertical-align: middle;\n    }\n\n    .dataframe tbody tr th {\n        vertical-align: top;\n    }\n\n    .dataframe thead th {\n        text-align: right;\n    }\n</style>\n<table border=\"1\" class=\"dataframe\">\n  <thead>\n    <tr style=\"text-align: right;\">\n      <th></th>\n      <th>Teste</th>\n      <th>Relevância</th>\n      <th>% de 1</th>\n      <th>ClassByRel</th>\n    </tr>\n  </thead>\n  <tbody>\n    <tr>\n      <th>0</th>\n      <td>entenda como ficará a venda de eletrodoméstico...</td>\n      <td>irrelevante</td>\n      <td>48.292683</td>\n      <td>relevante</td>\n    </tr>\n    <tr>\n      <th>1</th>\n      <td>o novo #playstation 5 está previsto para ser l...</td>\n      <td>irrelevante</td>\n      <td>NaN</td>\n      <td>irrelevante</td>\n    </tr>\n    <tr>\n      <th>2</th>\n      <td>@jose_simao vem cá, o preço do novo playstatio...</td>\n      <td>relevante</td>\n      <td>NaN</td>\n      <td>irrelevante</td>\n    </tr>\n    <tr>\n      <th>3</th>\n      <td>@yasminxlima me dá um playstation 5</td>\n      <td>relevante</td>\n      <td>NaN</td>\n      <td>relevante</td>\n    </tr>\n    <tr>\n      <th>4</th>\n      <td>propaganda do playstation 5 aparece em partida...</td>\n      <td>irrelevante</td>\n      <td>NaN</td>\n      <td>irrelevante</td>\n    </tr>\n  </tbody>\n</table>\n</div>"
     },
     "metadata": {},
     "execution_count": 74
    }
   ],
   "source": [
    "test.head(5)"
   ]
  },
  {
   "cell_type": "markdown",
   "metadata": {},
   "source": [
    "___\n",
    "### Verificando a performance do Classificador\n",
    "\n",
    "Agora você deve testar o seu classificador com a base de Testes."
   ]
  },
  {
   "cell_type": "code",
   "execution_count": 76,
   "metadata": {},
   "outputs": [
    {
     "output_type": "execute_result",
     "data": {
      "text/plain": "Relevância   irrelevante  relevante\nClassByRel                         \nirrelevante     0.490566   0.707071\nrelevante       0.509434   0.292929",
      "text/html": "<div>\n<style scoped>\n    .dataframe tbody tr th:only-of-type {\n        vertical-align: middle;\n    }\n\n    .dataframe tbody tr th {\n        vertical-align: top;\n    }\n\n    .dataframe thead th {\n        text-align: right;\n    }\n</style>\n<table border=\"1\" class=\"dataframe\">\n  <thead>\n    <tr style=\"text-align: right;\">\n      <th>Relevância</th>\n      <th>irrelevante</th>\n      <th>relevante</th>\n    </tr>\n    <tr>\n      <th>ClassByRel</th>\n      <th></th>\n      <th></th>\n    </tr>\n  </thead>\n  <tbody>\n    <tr>\n      <th>irrelevante</th>\n      <td>0.490566</td>\n      <td>0.707071</td>\n    </tr>\n    <tr>\n      <th>relevante</th>\n      <td>0.509434</td>\n      <td>0.292929</td>\n    </tr>\n  </tbody>\n</table>\n</div>"
     },
     "metadata": {},
     "execution_count": 76
    }
   ],
   "source": [
    "pd.crosstab(test.ClassByRel, test.Relevância, normalize='columns')"
   ]
  },
  {
   "cell_type": "code",
   "execution_count": null,
   "metadata": {},
   "outputs": [],
   "source": []
  },
  {
   "cell_type": "code",
   "execution_count": null,
   "metadata": {},
   "outputs": [],
   "source": []
  },
  {
   "cell_type": "code",
   "execution_count": null,
   "metadata": {},
   "outputs": [],
   "source": []
  },
  {
   "cell_type": "markdown",
   "metadata": {},
   "source": [
    "___\n",
    "### Concluindo"
   ]
  },
  {
   "cell_type": "code",
   "execution_count": null,
   "metadata": {},
   "outputs": [],
   "source": []
  },
  {
   "cell_type": "code",
   "execution_count": null,
   "metadata": {},
   "outputs": [],
   "source": []
  },
  {
   "cell_type": "markdown",
   "metadata": {},
   "source": [
    "___\n",
    "## Aperfeiçoamento:\n",
    "\n",
    "Os trabalhos vão evoluir em conceito dependendo da quantidade de itens avançados:\n",
    "\n",
    "* Limpar: \\n, :, \", ', (, ), etc SEM remover emojis\n",
    "* Corrigir separação de espaços entre palavras e emojis ou entre emojis e emojis\n",
    "* Propor outras limpezas e transformações que não afetem a qualidade da informação ou classificação\n",
    "* Criar categorias intermediárias de relevância baseadas na probabilidade: ex.: muito relevante, relevante, neutro, irrelevante, muito irrelevante (3 categorias: C, mais categorias conta para B)\n",
    "* Explicar por que não posso usar o próprio classificador para gerar mais amostras de treinamento\n",
    "* Propor diferentes cenários para Naïve Bayes fora do contexto do projeto\n",
    "* Sugerir e explicar melhorias reais com indicações concretas de como implementar (indicar como fazer e indicar material de pesquisa)\n",
    "* Montar um dashboard que realiza análise de sentimento e visualiza estes dados"
   ]
  },
  {
   "cell_type": "markdown",
   "metadata": {},
   "source": [
    "___\n",
    "## Referências"
   ]
  },
  {
   "cell_type": "markdown",
   "metadata": {},
   "source": [
    "[Naive Bayes and Text Classification](https://arxiv.org/pdf/1410.5329.pdf)  **Mais completo**\n",
    "\n",
    "[A practical explanation of a Naive Bayes Classifier](https://monkeylearn.com/blog/practical-explanation-naive-bayes-classifier/) **Mais simples**"
   ]
  },
  {
   "cell_type": "code",
   "execution_count": null,
   "metadata": {},
   "outputs": [],
   "source": []
  }
 ],
 "metadata": {
  "kernelspec": {
   "display_name": "Python 3",
   "language": "python",
   "name": "python3"
  },
  "language_info": {
   "codemirror_mode": {
    "name": "ipython",
    "version": 3
   },
   "file_extension": ".py",
   "mimetype": "text/x-python",
   "name": "python",
   "nbconvert_exporter": "python",
   "pygments_lexer": "ipython3",
   "version": "3.8.3-final"
  }
 },
 "nbformat": 4,
 "nbformat_minor": 4
}